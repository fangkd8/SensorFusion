{
 "cells": [
  {
   "cell_type": "code",
   "execution_count": 58,
   "metadata": {
    "ExecuteTime": {
     "end_time": "2020-04-10T21:43:28.163276Z",
     "start_time": "2020-04-10T21:43:28.137474Z"
    }
   },
   "outputs": [],
   "source": [
    "class Node(object):\n",
    "    def __init__(self, ind, pt):\n",
    "        self.ind = ind\n",
    "        self.left = None\n",
    "        self.right = None\n",
    "        self.pt = pt\n",
    "        \n",
    "class KDTree(object):\n",
    "    def __init__(self):\n",
    "        self.root = None\n",
    "        \n",
    "    def insert(self, pt, idx):\n",
    "        if self.root is None:\n",
    "            self.root = Node(idx, pt)\n",
    "            return\n",
    "        curr = self.root\n",
    "        depth = 0\n",
    "        while curr is not None:\n",
    "            dim = depth % 2\n",
    "            temp = curr\n",
    "            child = None\n",
    "#             print(curr, dim)\n",
    "            if (pt[dim] <= curr.pt[dim]):\n",
    "                curr = curr.left\n",
    "                child = 0\n",
    "            else:\n",
    "                curr = curr.right\n",
    "                child = 1\n",
    "            depth += 1\n",
    "        curr = Node(idx, pt)\n",
    "        if child == 0:\n",
    "            temp.left = curr\n",
    "        else:\n",
    "            temp.right = curr\n",
    "            \n",
    "    def printTree(self):\n",
    "        curr = self.root\n",
    "        self.travel(curr)\n",
    "        \n",
    "    def travel(self, node):\n",
    "        if node is not None:\n",
    "            self.travel(node.left)\n",
    "            print(node.pt)\n",
    "            self.travel(node.right)"
   ]
  },
  {
   "cell_type": "code",
   "execution_count": 64,
   "metadata": {
    "ExecuteTime": {
     "end_time": "2020-04-10T23:02:55.208777Z",
     "start_time": "2020-04-10T23:02:55.204057Z"
    }
   },
   "outputs": [],
   "source": [
    "a = KDTree()\n",
    "# l = [(30,40), (5,25), (10,12), (70,70), (50,30), (35,45)]\n",
    "l = [(-6.2,7), \n",
    "     (-6.3,8.4), \n",
    "     (-5.2,7.1), \n",
    "     (-5.7,6.3), \n",
    "     (7.2,6.1), \n",
    "     (8.0,5.3), \n",
    "     (7.2,7.1), \n",
    "     (0.2,-7.1), \n",
    "     (1.7,-6.9), \n",
    "     (-1.2,-7.2), \n",
    "     (2.2,-8.9)]\n",
    "for i in range(len(l)):\n",
    "#     print(l[i])\n",
    "    a.insert(l[i], i)"
   ]
  },
  {
   "cell_type": "code",
   "execution_count": 65,
   "metadata": {
    "ExecuteTime": {
     "end_time": "2020-04-10T23:02:56.957080Z",
     "start_time": "2020-04-10T23:02:56.953692Z"
    }
   },
   "outputs": [
    {
     "name": "stdout",
     "output_type": "stream",
     "text": [
      "(-6.3, 8.4)\n",
      "(-6.2, 7)\n",
      "(-5.7, 6.3)\n",
      "(-1.2, -7.2)\n",
      "(2.2, -8.9)\n",
      "(0.2, -7.1)\n",
      "(1.7, -6.9)\n",
      "(8.0, 5.3)\n",
      "(7.2, 6.1)\n",
      "(7.2, 7.1)\n",
      "(-5.2, 7.1)\n"
     ]
    }
   ],
   "source": [
    "a.printTree()"
   ]
  },
  {
   "cell_type": "code",
   "execution_count": 54,
   "metadata": {
    "ExecuteTime": {
     "end_time": "2020-04-10T21:42:54.921917Z",
     "start_time": "2020-04-10T21:42:54.919096Z"
    }
   },
   "outputs": [
    {
     "data": {
      "text/plain": [
       "(30, 40)"
      ]
     },
     "execution_count": 54,
     "metadata": {},
     "output_type": "execute_result"
    }
   ],
   "source": [
    "a.root.pt"
   ]
  },
  {
   "cell_type": "code",
   "execution_count": 57,
   "metadata": {
    "ExecuteTime": {
     "end_time": "2020-04-10T21:43:02.062254Z",
     "start_time": "2020-04-10T21:43:02.053350Z"
    }
   },
   "outputs": [
    {
     "data": {
      "text/plain": [
       "1"
      ]
     },
     "execution_count": 57,
     "metadata": {},
     "output_type": "execute_result"
    }
   ],
   "source": [
    "a.root.left.pt"
   ]
  },
  {
   "cell_type": "code",
   "execution_count": 56,
   "metadata": {
    "ExecuteTime": {
     "end_time": "2020-04-10T21:42:58.566749Z",
     "start_time": "2020-04-10T21:42:58.564190Z"
    }
   },
   "outputs": [],
   "source": [
    "a.root.right"
   ]
  },
  {
   "cell_type": "code",
   "execution_count": null,
   "metadata": {},
   "outputs": [],
   "source": []
  }
 ],
 "metadata": {
  "kernelspec": {
   "display_name": "Python 3",
   "language": "python",
   "name": "python3"
  },
  "language_info": {
   "codemirror_mode": {
    "name": "ipython",
    "version": 3
   },
   "file_extension": ".py",
   "mimetype": "text/x-python",
   "name": "python",
   "nbconvert_exporter": "python",
   "pygments_lexer": "ipython3",
   "version": "3.5.2"
  }
 },
 "nbformat": 4,
 "nbformat_minor": 2
}
